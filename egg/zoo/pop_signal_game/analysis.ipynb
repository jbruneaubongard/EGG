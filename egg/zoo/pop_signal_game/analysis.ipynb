{
 "cells": [
  {
   "attachments": {},
   "cell_type": "markdown",
   "metadata": {},
   "source": [
    "# Data preprocessing before analysis"
   ]
  },
  {
   "cell_type": "code",
   "execution_count": null,
   "metadata": {},
   "outputs": [],
   "source": [
    "import json\n",
    "import pandas as pd\n",
    "import numpy as np\n",
    "\n",
    "def preprocess(data):\n",
    "    \"\"\"\n",
    "    Preprocesses the data and outputs a pandas dataframe\n",
    "    \"\"\"\n",
    "    # Add columns corresponding to the values in 'aux'\n",
    "\n",
    "    for k,v in data['aux'].items():\n",
    "        data[k] = v\n",
    "    data.pop('aux')\n",
    "    \n",
    "    # Split concatenated tensors\n",
    "\n",
    "    for k in ['labels', 'message', 'message_length', 'receiver_output', 'acc', 'baseline', 'sender_entropy', 'receiver_entropy']:\n",
    "        chunk_size = int(len(data[k])/len(data['epoch']))\n",
    "        new_value = [data[k][i:i+chunk_size] for i in range(0, len(data[k]), chunk_size)]\n",
    "        data[k] = new_value\n",
    "\n",
    "    # Remove useless columns\n",
    "\n",
    "    data.pop('aux_input')\n",
    "\n",
    "    # Compute mean accuracy\n",
    "    \n",
    "    df = pd.DataFrame(data)\n",
    "    df['mean_acc'] = df['acc'].apply(np.mean)\n",
    "\n",
    "    return df"
   ]
  },
  {
   "cell_type": "code",
   "execution_count": null,
   "metadata": {},
   "outputs": [],
   "source": [
    "path = ''\n",
    "\n",
    "# Opening JSON file\n",
    "f = open(path)\n",
    "\n",
    "# returns JSON object as a dictionary\n",
    "data = json.load(f)\n",
    "f.close()\n",
    "\n",
    "df = preprocess(data)\n"
   ]
  },
  {
   "cell_type": "code",
   "execution_count": null,
   "metadata": {},
   "outputs": [],
   "source": [
    "df.head()"
   ]
  }
 ],
 "metadata": {
  "kernelspec": {
   "display_name": "egg37",
   "language": "python",
   "name": "python3"
  },
  "language_info": {
   "codemirror_mode": {
    "name": "ipython",
    "version": 3
   },
   "file_extension": ".py",
   "mimetype": "text/x-python",
   "name": "python",
   "nbconvert_exporter": "python",
   "pygments_lexer": "ipython3",
   "version": "3.7.13"
  },
  "orig_nbformat": 4,
  "vscode": {
   "interpreter": {
    "hash": "11126e252bed191f98878c6785f47955bb409442e2fea15201f54228baedd8bb"
   }
  }
 },
 "nbformat": 4,
 "nbformat_minor": 2
}
